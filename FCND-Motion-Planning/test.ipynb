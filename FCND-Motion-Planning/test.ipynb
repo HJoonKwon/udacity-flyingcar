{
 "cells": [
  {
   "cell_type": "code",
   "execution_count": 23,
   "source": [
    "import csv\n",
    "\n",
    "import numpy as np\n",
    "# with open('colliders.csv', newline='') as f:\n",
    "#    reader = csv.reader(f)\n",
    "#    row1 = next(reader)  # gets the first line\n",
    "\n",
    "csvfile = open('colliders.csv')\n",
    "csvFileArray = []\n",
    "for row in csv.reader(csvfile, delimiter = ' '):\n",
    "    csvFileArray.append(row)\n",
    "    break\n",
    "print(csvFileArray[0])    "
   ],
   "outputs": [
    {
     "output_type": "stream",
     "name": "stdout",
     "text": [
      "['lat0', '37.792480,', 'lon0', '-122.397450']\n"
     ]
    }
   ],
   "metadata": {}
  },
  {
   "cell_type": "code",
   "execution_count": null,
   "source": [],
   "outputs": [],
   "metadata": {}
  }
 ],
 "metadata": {
  "orig_nbformat": 4,
  "language_info": {
   "name": "python",
   "version": "3.6.3",
   "mimetype": "text/x-python",
   "codemirror_mode": {
    "name": "ipython",
    "version": 3
   },
   "pygments_lexer": "ipython3",
   "nbconvert_exporter": "python",
   "file_extension": ".py"
  },
  "kernelspec": {
   "name": "python3",
   "display_name": "Python 3.6.3 64-bit ('fcnd': conda)"
  },
  "interpreter": {
   "hash": "65e358345eb72f741a184717ecf1f9809449c068ba7503c922ff8ef6dbcd7c86"
  }
 },
 "nbformat": 4,
 "nbformat_minor": 2
}
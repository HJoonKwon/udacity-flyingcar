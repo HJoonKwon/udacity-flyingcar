{
 "cells": [
  {
   "cell_type": "markdown",
   "source": [
    "# 3D Map\n",
    "\n",
    "While representing the configuration space in 3 dimensions isn't entirely practical it's fun (and useful) to visualize things in 3D.\n",
    "\n",
    "In this exercise you'll finish the implementation of `create_grid` such that a 3D grid is returned where cells containing a voxel are set to `True`. We'll then plot the result!"
   ],
   "metadata": {}
  },
  {
   "cell_type": "code",
   "execution_count": 1,
   "source": [
    "import numpy as np\n",
    "import matplotlib.pyplot as plt\n",
    "from mpl_toolkits.mplot3d import Axes3D\n",
    "\n",
    "%matplotlib inline "
   ],
   "outputs": [],
   "metadata": {}
  },
  {
   "cell_type": "code",
   "execution_count": 2,
   "source": [
    "plt.rcParams['figure.figsize'] = 16, 16"
   ],
   "outputs": [],
   "metadata": {}
  },
  {
   "cell_type": "code",
   "execution_count": 3,
   "source": [
    "# This is the same obstacle data from the previous lesson.\n",
    "filename = 'colliders.csv'\n",
    "data = np.loadtxt(filename, delimiter=',', dtype='Float64', skiprows=2)\n",
    "print(data)"
   ],
   "outputs": [
    {
     "output_type": "stream",
     "name": "stdout",
     "text": [
      "[[-310.2389   -439.2315     85.5         5.          5.         85.5     ]\n",
      " [-300.2389   -439.2315     85.5         5.          5.         85.5     ]\n",
      " [-290.2389   -439.2315     85.5         5.          5.         85.5     ]\n",
      " ...\n",
      " [ 257.8061    425.1645      1.75852     1.292725    1.292725    1.944791]\n",
      " [ 293.9967    368.3391      3.557666    1.129456    1.129456    3.667319]\n",
      " [ 281.5162    354.4156      4.999351    1.053772    1.053772    4.950246]]\n"
     ]
    }
   ],
   "metadata": {}
  },
  {
   "cell_type": "code",
   "execution_count": 9,
   "source": [
    "def create_voxmap(data, voxel_size=5):\n",
    "    \"\"\"\n",
    "    Returns a grid representation of a 3D configuration space\n",
    "    based on given obstacle data.\n",
    "    \n",
    "    The `voxel_size` argument sets the resolution of the voxel map. \n",
    "    \"\"\"\n",
    "\n",
    "    # minimum and maximum north coordinates\n",
    "    north_min = np.floor(np.amin(data[:, 0] - data[:, 3]))\n",
    "    north_max = np.ceil(np.amax(data[:, 0] + data[:, 3]))\n",
    "\n",
    "    # minimum and maximum east coordinates\n",
    "    east_min = np.floor(np.amin(data[:, 1] - data[:, 4]))\n",
    "    east_max = np.ceil(np.amax(data[:, 1] + data[:, 4]))\n",
    "\n",
    "    alt_max = np.ceil(np.amax(data[:, 2] + data[:, 5]))\n",
    "    \n",
    "    # given the minimum and maximum coordinates we can\n",
    "    # calculate the size of the grid.\n",
    "    north_size = int(np.ceil((north_max - north_min))) // voxel_size\n",
    "    east_size = int(np.ceil((east_max - east_min))) // voxel_size\n",
    "    alt_size = int(alt_max) // voxel_size\n",
    "\n",
    "    voxmap = np.zeros((north_size, east_size, alt_size), dtype=np.bool)\n",
    "\n",
    "    for i in range(data.shape[0]):\n",
    "        \n",
    "        # TODO: fill in the voxels that are part of an obstacle with `True`\n",
    "        #\n",
    "        # i.e. grid[0:5, 20:26, 2:7] = True\n",
    "        north, east, alt , dnorth, deast, dalt = data[i]\n",
    "        obstacle = [\n",
    "            int(np.clip((north-dnorth-north_min)//voxel_size, 0, north_size-1)),\n",
    "            int(np.clip((north+dnorth-north_min)//voxel_size, 0, north_size-1)),\n",
    "            int(np.clip((east-deast-east_min)//voxel_size, 0, east_size-1)),\n",
    "            int(np.clip((east+deast-east_min)//voxel_size, 0, east_size-1)),\n",
    "            int(np.clip((alt+dalt)//voxel_size,0, alt_size-1))\n",
    "        ]\n",
    "        \n",
    "        voxmap[obstacle[0]:obstacle[1]+1, obstacle[2]:obstacle[3]+1, 0:obstacle[4]+1] = True \n",
    "\n",
    "    return voxmap"
   ],
   "outputs": [],
   "metadata": {}
  },
  {
   "cell_type": "markdown",
   "source": [
    "Create 3D grid."
   ],
   "metadata": {}
  },
  {
   "cell_type": "code",
   "execution_count": 10,
   "source": [
    "voxmap = create_voxmap(data, 10)\n",
    "print(voxmap.shape)"
   ],
   "outputs": [
    {
     "output_type": "stream",
     "name": "stdout",
     "text": [
      "(92, 92, 21)\n"
     ]
    }
   ],
   "metadata": {}
  },
  {
   "cell_type": "markdown",
   "source": [
    "Plot the 3D grid. "
   ],
   "metadata": {}
  },
  {
   "cell_type": "code",
   "execution_count": 12,
   "source": [
    "fig = plt.figure()\n",
    "ax = fig.gca(projection='3d')\n",
    "ax.voxels(voxmap, edgecolor='k')\n",
    "ax.set_xlim(voxmap.shape[0], 0)\n",
    "ax.set_ylim(0, voxmap.shape[1])\n",
    "# add 100 to the height so the buildings aren't so tall\n",
    "ax.set_zlim(0, voxmap.shape[2]+20)\n",
    "\n",
    "plt.xlabel('North')\n",
    "plt.ylabel('East')\n",
    "\n",
    "plt.show()"
   ],
   "outputs": [],
   "metadata": {}
  },
  {
   "cell_type": "markdown",
   "source": [
    "Isn't the city pretty?"
   ],
   "metadata": {}
  },
  {
   "cell_type": "markdown",
   "source": [
    "[solution](/notebooks/Voxel-Map-Solution.ipynb)"
   ],
   "metadata": {}
  },
  {
   "cell_type": "code",
   "execution_count": null,
   "source": [],
   "outputs": [],
   "metadata": {}
  }
 ],
 "metadata": {
  "kernelspec": {
   "name": "python3",
   "display_name": "Python 3.6.3 64-bit ('fcnd': conda)"
  },
  "language_info": {
   "codemirror_mode": {
    "name": "ipython",
    "version": 3
   },
   "file_extension": ".py",
   "mimetype": "text/x-python",
   "name": "python",
   "nbconvert_exporter": "python",
   "pygments_lexer": "ipython3",
   "version": "3.6.3"
  },
  "interpreter": {
   "hash": "65e358345eb72f741a184717ecf1f9809449c068ba7503c922ff8ef6dbcd7c86"
  }
 },
 "nbformat": 4,
 "nbformat_minor": 2
}
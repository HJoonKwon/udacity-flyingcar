{
 "cells": [
  {
   "cell_type": "markdown",
   "source": [
    "# Random Sampling\n",
    "\n",
    "In this notebook you'll work with the obstacle's polygon representation itself.\n",
    "\n",
    "Your tasks will be:\n",
    "\n",
    "1. Create polygons.\n",
    "2. Sample random 3D points.\n",
    "3. Remove points contained by an obstacle polygon.\n",
    "\n",
    "Recall, a point $(x, y, z)$ collides with a polygon if the $(x, y)$ coordinates are contained by the polygon and the $z$ coordinate (height) is less than the height of the polygon."
   ],
   "metadata": {}
  },
  {
   "cell_type": "code",
   "execution_count": 1,
   "source": [
    "import time\n",
    "import numpy as np\n",
    "import matplotlib.pyplot as plt\n",
    "from mpl_toolkits.mplot3d import Axes3D\n",
    "from shapely.geometry import Polygon, Point\n",
    "%matplotlib inline \n",
    "%load_ext autoreload\n",
    "%autoreload 2\n",
    "\n"
   ],
   "outputs": [],
   "metadata": {}
  },
  {
   "cell_type": "code",
   "execution_count": 2,
   "source": [
    "plt.rcParams['figure.figsize'] = 12, 12"
   ],
   "outputs": [],
   "metadata": {}
  },
  {
   "cell_type": "code",
   "execution_count": 3,
   "source": [
    "# This is the same obstacle data from the previous lesson.\n",
    "filename = 'colliders.csv'\n",
    "data = np.loadtxt(filename, delimiter=',', dtype='Float64', skiprows=2)\n",
    "print(data)"
   ],
   "outputs": [
    {
     "output_type": "stream",
     "name": "stdout",
     "text": [
      "[[-310.2389   -439.2315     85.5         5.          5.         85.5     ]\n",
      " [-300.2389   -439.2315     85.5         5.          5.         85.5     ]\n",
      " [-290.2389   -439.2315     85.5         5.          5.         85.5     ]\n",
      " ...\n",
      " [ 257.8061    425.1645      1.75852     1.292725    1.292725    1.944791]\n",
      " [ 293.9967    368.3391      3.557666    1.129456    1.129456    3.667319]\n",
      " [ 281.5162    354.4156      4.999351    1.053772    1.053772    4.950246]]\n"
     ]
    }
   ],
   "metadata": {}
  },
  {
   "cell_type": "markdown",
   "source": [
    "## Create Polygons"
   ],
   "metadata": {}
  },
  {
   "cell_type": "code",
   "execution_count": 4,
   "source": [
    "def extract_polygons(data):\n",
    "\n",
    "    polygons = []\n",
    "    for i in range(data.shape[0]):\n",
    "        north, east, alt, d_north, d_east, d_alt = data[i, :]\n",
    "        \n",
    "        # TODO: Extract the 4 corners of the obstacle\n",
    "        # \n",
    "        # NOTE: The order of the points matters since\n",
    "        # `shapely` draws the sequentially from point to point.\n",
    "        #\n",
    "        # If the area of the polygon is 0 you've likely got a weird\n",
    "        # order.\n",
    "        corners = [\n",
    "            (north-d_north, east-d_east), \n",
    "            (north-d_north, east+d_east), \n",
    "            (north+d_north, east+d_east), \n",
    "            (north+d_north, east-d_east)\n",
    "            ]\n",
    "        \n",
    "        # TODO: Compute the height of the polygon\n",
    "        height = alt+d_alt\n",
    "\n",
    "        # TODO: Once you've defined corners, define polygons\n",
    "        p = Polygon(corners)\n",
    "        polygons.append((p, height))\n",
    "\n",
    "    return polygons\n"
   ],
   "outputs": [],
   "metadata": {}
  },
  {
   "cell_type": "code",
   "execution_count": 5,
   "source": [
    "polygons = extract_polygons(data)"
   ],
   "outputs": [],
   "metadata": {}
  },
  {
   "cell_type": "markdown",
   "source": [
    "# Sampling 3D Points\n",
    "\n",
    "Now that we have the extracted the polygons, we need to sample random 3D points. Currently we don't know suitable ranges for x, y, and z. Let's figure out the max and min values for each dimension."
   ],
   "metadata": {}
  },
  {
   "cell_type": "code",
   "execution_count": 6,
   "source": [
    "xmin = np.min(data[:, 0] - data[:, 3])\n",
    "xmax = np.max(data[:, 0] + data[:, 3])\n",
    "\n",
    "ymin = np.min(data[:, 1] - data[:, 4])\n",
    "ymax = np.max(data[:, 1] + data[:, 4])\n",
    "\n",
    "zmin = 0\n",
    "# Limit the z axis for the visualization\n",
    "zmax = 10\n",
    "\n",
    "print(\"X\")\n",
    "print(\"min = {0}, max = {1}\\n\".format(xmin, xmax))\n",
    "\n",
    "print(\"Y\")\n",
    "print(\"min = {0}, max = {1}\\n\".format(ymin, ymax))\n",
    "\n",
    "print(\"Z\")\n",
    "print(\"min = {0}, max = {1}\".format(zmin, zmax))"
   ],
   "outputs": [
    {
     "output_type": "stream",
     "name": "stdout",
     "text": [
      "X\n",
      "min = -315.2389, max = 604.7611\n",
      "\n",
      "Y\n",
      "min = -444.2315, max = 475.7685\n",
      "\n",
      "Z\n",
      "min = 0, max = 10\n"
     ]
    }
   ],
   "metadata": {}
  },
  {
   "cell_type": "markdown",
   "source": [
    "Next, it's time to sample points. All that's left is picking the distribution and number of samples. The uniform distribution makes sense in this situation since we we'd like to encourage searching the whole space."
   ],
   "metadata": {}
  },
  {
   "cell_type": "code",
   "execution_count": 7,
   "source": [
    "num_samples = 100\n",
    "\n",
    "xvals = np.random.uniform(xmin, xmax, num_samples)\n",
    "yvals = np.random.uniform(ymin, ymax, num_samples)\n",
    "zvals = np.random.uniform(zmin, zmax, num_samples)\n",
    "\n",
    "\n",
    "samples = list(zip(xvals, yvals, zvals))"
   ],
   "outputs": [],
   "metadata": {}
  },
  {
   "cell_type": "code",
   "execution_count": 8,
   "source": [
    "samples[:10]"
   ],
   "outputs": [
    {
     "output_type": "execute_result",
     "data": {
      "text/plain": [
       "[(244.732026000521, 116.82338512236151, 1.590960167007317),\n",
       " (118.3391207530239, 36.606660200273154, 7.780971105016067),\n",
       " (-263.3972234977665, -337.01759612069196, 9.825982143403639),\n",
       " (-130.4246776865932, -228.63508644427628, 2.730912324411654),\n",
       " (-171.8148675269815, -93.39496232135195, 6.010012254937642),\n",
       " (-92.35221576934234, -204.3815542281418, 3.0138883907371152),\n",
       " (-35.059005544091406, -176.17877254922433, 0.4886800623595322),\n",
       " (-187.83807936247146, 330.93349603481124, 7.919347748211333),\n",
       " (208.76222044511832, 187.41359800198165, 1.2322259695148141),\n",
       " (166.18931931891132, -192.17466563422965, 1.079664587242184)]"
      ]
     },
     "metadata": {},
     "execution_count": 8
    }
   ],
   "metadata": {}
  },
  {
   "cell_type": "markdown",
   "source": [
    "## Removing Points Colliding With Obstacles\n",
    "\n",
    "Prior to remove a point we must determine whether it collides with any obstacle. Complete the `collides` function below. It should return `True` if the point collides with *any* obstacle and `False` if no collision is detected."
   ],
   "metadata": {}
  },
  {
   "cell_type": "code",
   "execution_count": 9,
   "source": [
    "\n",
    "def collides(polygons, point):   \n",
    "    # TODO: Determine whether the point collides\n",
    "    # with any obstacles.    \n",
    "    p1 = Point(point[0], point[1])\n",
    "    for polygon, height in polygons:\n",
    "        if polygon.contains(p1)and height >= point[2]:\n",
    "            return True \n",
    "    \n",
    "    return False"
   ],
   "outputs": [],
   "metadata": {}
  },
  {
   "cell_type": "markdown",
   "source": [
    "Use `collides` for all points in the sample."
   ],
   "metadata": {}
  },
  {
   "cell_type": "code",
   "execution_count": 10,
   "source": [
    "t0 = time.time()\n",
    "to_keep = []\n",
    "for point in samples:\n",
    "    if not collides(polygons, point):\n",
    "        to_keep.append(point)\n",
    "time_taken = time.time() - t0\n",
    "print(\"Time taken {0} seconds ...\", time_taken)"
   ],
   "outputs": [
    {
     "output_type": "stream",
     "name": "stdout",
     "text": [
      "Time taken {0} seconds ... 0.8458354473114014\n"
     ]
    }
   ],
   "metadata": {}
  },
  {
   "cell_type": "code",
   "execution_count": 11,
   "source": [
    "print(len(to_keep))"
   ],
   "outputs": [
    {
     "output_type": "stream",
     "name": "stdout",
     "text": [
      "67\n"
     ]
    }
   ],
   "metadata": {}
  },
  {
   "cell_type": "markdown",
   "source": [
    "## Points Visualization"
   ],
   "metadata": {}
  },
  {
   "cell_type": "code",
   "execution_count": 12,
   "source": [
    "from grid import create_grid\n",
    "grid = create_grid(data, zmax, 1)"
   ],
   "outputs": [],
   "metadata": {}
  },
  {
   "cell_type": "code",
   "execution_count": 13,
   "source": [
    "fig = plt.figure()\n",
    "\n",
    "plt.imshow(grid, cmap='Greys', origin='lower')\n",
    "\n",
    "nmin = np.min(data[:, 0])\n",
    "emin = np.min(data[:, 1])\n",
    "\n",
    "# draw points\n",
    "all_pts = np.array(to_keep)\n",
    "north_vals = all_pts[:,0]\n",
    "east_vals = all_pts[:,1]\n",
    "plt.scatter(east_vals - emin, north_vals - nmin, c='red')\n",
    "\n",
    "plt.ylabel('NORTH')\n",
    "plt.xlabel('EAST')\n",
    "\n",
    "plt.show()"
   ],
   "outputs": [
    {
     "output_type": "display_data",
     "data": {
      "text/plain": [
       "<matplotlib.figure.Figure at 0x7f01ec418d30>"
      ],
      "image/svg+xml": "<?xml version=\"1.0\" encoding=\"utf-8\" standalone=\"no\"?>\n<!DOCTYPE svg PUBLIC \"-//W3C//DTD SVG 1.1//EN\"\n  \"http://www.w3.org/Graphics/SVG/1.1/DTD/svg11.dtd\">\n<!-- Created with matplotlib (http://matplotlib.org/) -->\n<svg height=\"700pt\" version=\"1.1\" viewBox=\"0 0 675 700\" width=\"675pt\" xmlns=\"http://www.w3.org/2000/svg\" xmlns:xlink=\"http://www.w3.org/1999/xlink\">\n <defs>\n  <style type=\"text/css\">\n*{stroke-linecap:butt;stroke-linejoin:round;}\n  </style>\n </defs>\n <g id=\"figure_1\">\n  <g id=\"patch_1\">\n   <path d=\"M 0 700.57625 \nL 675.997493 700.57625 \nL 675.997493 0 \nL 0 0 \nz\n\" style=\"fill:none;\"/>\n  </g>\n  <g id=\"axes_1\">\n   <g id=\"patch_2\">\n    <path d=\"M 46.965625 663.02 \nL 665.297493 663.02 \nL 665.297493 10.7 \nL 46.965625 10.7 \nz\n\" style=\"fill:#ffffff;\"/>\n   </g>\n   <g clip-path=\"url(#p80f9b59227)\">\n    <image height=\"619\" id=\"image51b0515f39\" transform=\"scale(1 -1)translate(0 -619)\" width=\"619\" x=\"46.965625\" xlink:href=\"data:image/png;base64,\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\" y=\"-10.031868\"/>\n   </g>\n   <g id=\"PathCollection_1\">\n    <defs>\n     <path d=\"M 0 3 \nC 0.795609 3 1.55874 2.683901 2.12132 2.12132 \nC 2.683901 1.55874 3 0.795609 3 0 \nC 3 -0.795609 2.683901 -1.55874 2.12132 -2.12132 \nC 1.55874 -2.683901 0.795609 -3 0 -3 \nC -0.795609 -3 -1.55874 -2.683901 -2.12132 -2.12132 \nC -2.683901 -1.55874 -3 -0.795609 -3 0 \nC -3 0.795609 -2.683901 1.55874 -2.12132 2.12132 \nC -1.55874 2.683901 -0.795609 3 0 3 \nz\n\" id=\"mcd84f0a7ab\" style=\"stroke:#ff0000;\"/>\n    </defs>\n    <g clip-path=\"url(#p80f9b59227)\">\n     <use style=\"fill:#ff0000;stroke:#ff0000;\" x=\"420.619938\" xlink:href=\"#mcd84f0a7ab\" y=\"256.105293\"/>\n     <use style=\"fill:#ff0000;stroke:#ff0000;\" x=\"115.92467\" xlink:href=\"#mcd84f0a7ab\" y=\"597.248082\"/>\n     <use style=\"fill:#ff0000;stroke:#ff0000;\" x=\"564.367066\" xlink:href=\"#mcd84f0a7ab\" y=\"546.519931\"/>\n     <use style=\"fill:#ff0000;stroke:#ff0000;\" x=\"468.012096\" xlink:href=\"#mcd84f0a7ab\" y=\"280.254346\"/>\n     <use style=\"fill:#ff0000;stroke:#ff0000;\" x=\"347.744455\" xlink:href=\"#mcd84f0a7ab\" y=\"200.249953\"/>\n     <use style=\"fill:#ff0000;stroke:#ff0000;\" x=\"625.731798\" xlink:href=\"#mcd84f0a7ab\" y=\"206.204977\"/>\n     <use style=\"fill:#ff0000;stroke:#ff0000;\" x=\"280.908384\" xlink:href=\"#mcd84f0a7ab\" y=\"138.815331\"/>\n     <use style=\"fill:#ff0000;stroke:#ff0000;\" x=\"143.99591\" xlink:href=\"#mcd84f0a7ab\" y=\"102.871573\"/>\n     <use style=\"fill:#ff0000;stroke:#ff0000;\" x=\"488.515885\" xlink:href=\"#mcd84f0a7ab\" y=\"381.615679\"/>\n     <use style=\"fill:#ff0000;stroke:#ff0000;\" x=\"159.409019\" xlink:href=\"#mcd84f0a7ab\" y=\"130.64598\"/>\n     <use style=\"fill:#ff0000;stroke:#ff0000;\" x=\"375.028261\" xlink:href=\"#mcd84f0a7ab\" y=\"275.581958\"/>\n     <use style=\"fill:#ff0000;stroke:#ff0000;\" x=\"202.397188\" xlink:href=\"#mcd84f0a7ab\" y=\"237.684535\"/>\n     <use style=\"fill:#ff0000;stroke:#ff0000;\" x=\"162.6486\" xlink:href=\"#mcd84f0a7ab\" y=\"571.256962\"/>\n     <use style=\"fill:#ff0000;stroke:#ff0000;\" x=\"427.969396\" xlink:href=\"#mcd84f0a7ab\" y=\"339.923582\"/>\n     <use style=\"fill:#ff0000;stroke:#ff0000;\" x=\"170.510153\" xlink:href=\"#mcd84f0a7ab\" y=\"112.18154\"/>\n     <use style=\"fill:#ff0000;stroke:#ff0000;\" x=\"315.198227\" xlink:href=\"#mcd84f0a7ab\" y=\"470.757476\"/>\n     <use style=\"fill:#ff0000;stroke:#ff0000;\" x=\"310.347188\" xlink:href=\"#mcd84f0a7ab\" y=\"168.709924\"/>\n     <use style=\"fill:#ff0000;stroke:#ff0000;\" x=\"484.824133\" xlink:href=\"#mcd84f0a7ab\" y=\"84.407004\"/>\n     <use style=\"fill:#ff0000;stroke:#ff0000;\" x=\"406.642625\" xlink:href=\"#mcd84f0a7ab\" y=\"416.508399\"/>\n     <use style=\"fill:#ff0000;stroke:#ff0000;\" x=\"660.810416\" xlink:href=\"#mcd84f0a7ab\" y=\"510.303404\"/>\n     <use style=\"fill:#ff0000;stroke:#ff0000;\" x=\"244.491698\" xlink:href=\"#mcd84f0a7ab\" y=\"172.558657\"/>\n     <use style=\"fill:#ff0000;stroke:#ff0000;\" x=\"628.70101\" xlink:href=\"#mcd84f0a7ab\" y=\"328.401431\"/>\n     <use style=\"fill:#ff0000;stroke:#ff0000;\" x=\"348.658377\" xlink:href=\"#mcd84f0a7ab\" y=\"78.81737\"/>\n     <use style=\"fill:#ff0000;stroke:#ff0000;\" x=\"201.275468\" xlink:href=\"#mcd84f0a7ab\" y=\"536.299529\"/>\n     <use style=\"fill:#ff0000;stroke:#ff0000;\" x=\"134.12267\" xlink:href=\"#mcd84f0a7ab\" y=\"208.078473\"/>\n     <use style=\"fill:#ff0000;stroke:#ff0000;\" x=\"501.023994\" xlink:href=\"#mcd84f0a7ab\" y=\"430.95227\"/>\n     <use style=\"fill:#ff0000;stroke:#ff0000;\" x=\"514.708762\" xlink:href=\"#mcd84f0a7ab\" y=\"270.583715\"/>\n     <use style=\"fill:#ff0000;stroke:#ff0000;\" x=\"448.255702\" xlink:href=\"#mcd84f0a7ab\" y=\"557.12864\"/>\n     <use style=\"fill:#ff0000;stroke:#ff0000;\" x=\"174.995177\" xlink:href=\"#mcd84f0a7ab\" y=\"161.068469\"/>\n     <use style=\"fill:#ff0000;stroke:#ff0000;\" x=\"544.410022\" xlink:href=\"#mcd84f0a7ab\" y=\"617.857807\"/>\n     <use style=\"fill:#ff0000;stroke:#ff0000;\" x=\"162.883072\" xlink:href=\"#mcd84f0a7ab\" y=\"614.74504\"/>\n     <use style=\"fill:#ff0000;stroke:#ff0000;\" x=\"510.060218\" xlink:href=\"#mcd84f0a7ab\" y=\"321.633696\"/>\n     <use style=\"fill:#ff0000;stroke:#ff0000;\" x=\"641.876853\" xlink:href=\"#mcd84f0a7ab\" y=\"194.286904\"/>\n     <use style=\"fill:#ff0000;stroke:#ff0000;\" x=\"180.745974\" xlink:href=\"#mcd84f0a7ab\" y=\"486.880549\"/>\n     <use style=\"fill:#ff0000;stroke:#ff0000;\" x=\"61.694664\" xlink:href=\"#mcd84f0a7ab\" y=\"398.844631\"/>\n     <use style=\"fill:#ff0000;stroke:#ff0000;\" x=\"549.584789\" xlink:href=\"#mcd84f0a7ab\" y=\"180.662351\"/>\n     <use style=\"fill:#ff0000;stroke:#ff0000;\" x=\"473.502996\" xlink:href=\"#mcd84f0a7ab\" y=\"59.906156\"/>\n     <use style=\"fill:#ff0000;stroke:#ff0000;\" x=\"537.154971\" xlink:href=\"#mcd84f0a7ab\" y=\"96.34054\"/>\n     <use style=\"fill:#ff0000;stroke:#ff0000;\" x=\"563.129122\" xlink:href=\"#mcd84f0a7ab\" y=\"535.1856\"/>\n     <use style=\"fill:#ff0000;stroke:#ff0000;\" x=\"51.830014\" xlink:href=\"#mcd84f0a7ab\" y=\"340.935558\"/>\n     <use style=\"fill:#ff0000;stroke:#ff0000;\" x=\"344.508989\" xlink:href=\"#mcd84f0a7ab\" y=\"570.007446\"/>\n     <use style=\"fill:#ff0000;stroke:#ff0000;\" x=\"613.224735\" xlink:href=\"#mcd84f0a7ab\" y=\"139.961607\"/>\n     <use style=\"fill:#ff0000;stroke:#ff0000;\" x=\"537.292677\" xlink:href=\"#mcd84f0a7ab\" y=\"171.918322\"/>\n     <use style=\"fill:#ff0000;stroke:#ff0000;\" x=\"527.12994\" xlink:href=\"#mcd84f0a7ab\" y=\"128.4946\"/>\n     <use style=\"fill:#ff0000;stroke:#ff0000;\" x=\"538.510652\" xlink:href=\"#mcd84f0a7ab\" y=\"78.757195\"/>\n     <use style=\"fill:#ff0000;stroke:#ff0000;\" x=\"291.469826\" xlink:href=\"#mcd84f0a7ab\" y=\"130.62662\"/>\n     <use style=\"fill:#ff0000;stroke:#ff0000;\" x=\"598.391083\" xlink:href=\"#mcd84f0a7ab\" y=\"589.343304\"/>\n     <use style=\"fill:#ff0000;stroke:#ff0000;\" x=\"506.464954\" xlink:href=\"#mcd84f0a7ab\" y=\"37.29894\"/>\n     <use style=\"fill:#ff0000;stroke:#ff0000;\" x=\"248.580189\" xlink:href=\"#mcd84f0a7ab\" y=\"616.114334\"/>\n     <use style=\"fill:#ff0000;stroke:#ff0000;\" x=\"484.846687\" xlink:href=\"#mcd84f0a7ab\" y=\"65.463971\"/>\n     <use style=\"fill:#ff0000;stroke:#ff0000;\" x=\"471.712114\" xlink:href=\"#mcd84f0a7ab\" y=\"85.285168\"/>\n     <use style=\"fill:#ff0000;stroke:#ff0000;\" x=\"555.38374\" xlink:href=\"#mcd84f0a7ab\" y=\"222.992402\"/>\n     <use style=\"fill:#ff0000;stroke:#ff0000;\" x=\"163.941499\" xlink:href=\"#mcd84f0a7ab\" y=\"38.918151\"/>\n     <use style=\"fill:#ff0000;stroke:#ff0000;\" x=\"221.141573\" xlink:href=\"#mcd84f0a7ab\" y=\"330.749254\"/>\n     <use style=\"fill:#ff0000;stroke:#ff0000;\" x=\"123.238044\" xlink:href=\"#mcd84f0a7ab\" y=\"629.113453\"/>\n     <use style=\"fill:#ff0000;stroke:#ff0000;\" x=\"319.040663\" xlink:href=\"#mcd84f0a7ab\" y=\"252.234149\"/>\n     <use style=\"fill:#ff0000;stroke:#ff0000;\" x=\"385.730638\" xlink:href=\"#mcd84f0a7ab\" y=\"522.661611\"/>\n     <use style=\"fill:#ff0000;stroke:#ff0000;\" x=\"462.147798\" xlink:href=\"#mcd84f0a7ab\" y=\"89.45045\"/>\n     <use style=\"fill:#ff0000;stroke:#ff0000;\" x=\"329.435919\" xlink:href=\"#mcd84f0a7ab\" y=\"242.448403\"/>\n     <use style=\"fill:#ff0000;stroke:#ff0000;\" x=\"260.278565\" xlink:href=\"#mcd84f0a7ab\" y=\"454.925556\"/>\n     <use style=\"fill:#ff0000;stroke:#ff0000;\" x=\"608.423995\" xlink:href=\"#mcd84f0a7ab\" y=\"573.030682\"/>\n     <use style=\"fill:#ff0000;stroke:#ff0000;\" x=\"390.379153\" xlink:href=\"#mcd84f0a7ab\" y=\"589.93339\"/>\n     <use style=\"fill:#ff0000;stroke:#ff0000;\" x=\"524.161194\" xlink:href=\"#mcd84f0a7ab\" y=\"477.421888\"/>\n     <use style=\"fill:#ff0000;stroke:#ff0000;\" x=\"148.920437\" xlink:href=\"#mcd84f0a7ab\" y=\"167.25648\"/>\n     <use style=\"fill:#ff0000;stroke:#ff0000;\" x=\"268.572896\" xlink:href=\"#mcd84f0a7ab\" y=\"484.083426\"/>\n     <use style=\"fill:#ff0000;stroke:#ff0000;\" x=\"597.048707\" xlink:href=\"#mcd84f0a7ab\" y=\"609.598974\"/>\n     <use style=\"fill:#ff0000;stroke:#ff0000;\" x=\"282.580759\" xlink:href=\"#mcd84f0a7ab\" y=\"84.294497\"/>\n    </g>\n   </g>\n   <g id=\"matplotlib.axis_1\">\n    <g id=\"xtick_1\">\n     <g id=\"line2d_1\">\n      <defs>\n       <path d=\"M 0 0 \nL 0 3.5 \n\" id=\"mdbcb824f05\" style=\"stroke:#000000;stroke-width:0.8;\"/>\n      </defs>\n      <g>\n       <use style=\"stroke:#000000;stroke-width:0.8;\" x=\"47.30131\" xlink:href=\"#mdbcb824f05\" y=\"663.02\"/>\n      </g>\n     </g>\n     <g id=\"text_1\">\n      <!-- 0 -->\n      <defs>\n       <path d=\"M 31.78125 66.40625 \nQ 24.171875 66.40625 20.328125 58.90625 \nQ 16.5 51.421875 16.5 36.375 \nQ 16.5 21.390625 20.328125 13.890625 \nQ 24.171875 6.390625 31.78125 6.390625 \nQ 39.453125 6.390625 43.28125 13.890625 \nQ 47.125 21.390625 47.125 36.375 \nQ 47.125 51.421875 43.28125 58.90625 \nQ 39.453125 66.40625 31.78125 66.40625 \nz\nM 31.78125 74.21875 \nQ 44.046875 74.21875 50.515625 64.515625 \nQ 56.984375 54.828125 56.984375 36.375 \nQ 56.984375 17.96875 50.515625 8.265625 \nQ 44.046875 -1.421875 31.78125 -1.421875 \nQ 19.53125 -1.421875 13.0625 8.265625 \nQ 6.59375 17.96875 6.59375 36.375 \nQ 6.59375 54.828125 13.0625 64.515625 \nQ 19.53125 74.21875 31.78125 74.21875 \nz\n\" id=\"DejaVuSans-30\"/>\n      </defs>\n      <g transform=\"translate(44.12006 677.618438)scale(0.1 -0.1)\">\n       <use xlink:href=\"#DejaVuSans-30\"/>\n      </g>\n     </g>\n    </g>\n    <g id=\"xtick_2\">\n     <g id=\"line2d_2\">\n      <g>\n       <use style=\"stroke:#000000;stroke-width:0.8;\" x=\"181.575331\" xlink:href=\"#mdbcb824f05\" y=\"663.02\"/>\n      </g>\n     </g>\n     <g id=\"text_2\">\n      <!-- 200 -->\n      <defs>\n       <path d=\"M 19.1875 8.296875 \nL 53.609375 8.296875 \nL 53.609375 0 \nL 7.328125 0 \nL 7.328125 8.296875 \nQ 12.9375 14.109375 22.625 23.890625 \nQ 32.328125 33.6875 34.8125 36.53125 \nQ 39.546875 41.84375 41.421875 45.53125 \nQ 43.3125 49.21875 43.3125 52.78125 \nQ 43.3125 58.59375 39.234375 62.25 \nQ 35.15625 65.921875 28.609375 65.921875 \nQ 23.96875 65.921875 18.8125 64.3125 \nQ 13.671875 62.703125 7.8125 59.421875 \nL 7.8125 69.390625 \nQ 13.765625 71.78125 18.9375 73 \nQ 24.125 74.21875 28.421875 74.21875 \nQ 39.75 74.21875 46.484375 68.546875 \nQ 53.21875 62.890625 53.21875 53.421875 \nQ 53.21875 48.921875 51.53125 44.890625 \nQ 49.859375 40.875 45.40625 35.40625 \nQ 44.1875 33.984375 37.640625 27.21875 \nQ 31.109375 20.453125 19.1875 8.296875 \nz\n\" id=\"DejaVuSans-32\"/>\n      </defs>\n      <g transform=\"translate(172.031581 677.618438)scale(0.1 -0.1)\">\n       <use xlink:href=\"#DejaVuSans-32\"/>\n       <use x=\"63.623047\" xlink:href=\"#DejaVuSans-30\"/>\n       <use x=\"127.246094\" xlink:href=\"#DejaVuSans-30\"/>\n      </g>\n     </g>\n    </g>\n    <g id=\"xtick_3\">\n     <g id=\"line2d_3\">\n      <g>\n       <use style=\"stroke:#000000;stroke-width:0.8;\" x=\"315.849353\" xlink:href=\"#mdbcb824f05\" y=\"663.02\"/>\n      </g>\n     </g>\n     <g id=\"text_3\">\n      <!-- 400 -->\n      <defs>\n       <path d=\"M 37.796875 64.3125 \nL 12.890625 25.390625 \nL 37.796875 25.390625 \nz\nM 35.203125 72.90625 \nL 47.609375 72.90625 \nL 47.609375 25.390625 \nL 58.015625 25.390625 \nL 58.015625 17.1875 \nL 47.609375 17.1875 \nL 47.609375 0 \nL 37.796875 0 \nL 37.796875 17.1875 \nL 4.890625 17.1875 \nL 4.890625 26.703125 \nz\n\" id=\"DejaVuSans-34\"/>\n      </defs>\n      <g transform=\"translate(306.305603 677.618438)scale(0.1 -0.1)\">\n       <use xlink:href=\"#DejaVuSans-34\"/>\n       <use x=\"63.623047\" xlink:href=\"#DejaVuSans-30\"/>\n       <use x=\"127.246094\" xlink:href=\"#DejaVuSans-30\"/>\n      </g>\n     </g>\n    </g>\n    <g id=\"xtick_4\">\n     <g id=\"line2d_4\">\n      <g>\n       <use style=\"stroke:#000000;stroke-width:0.8;\" x=\"450.123374\" xlink:href=\"#mdbcb824f05\" y=\"663.02\"/>\n      </g>\n     </g>\n     <g id=\"text_4\">\n      <!-- 600 -->\n      <defs>\n       <path d=\"M 33.015625 40.375 \nQ 26.375 40.375 22.484375 35.828125 \nQ 18.609375 31.296875 18.609375 23.390625 \nQ 18.609375 15.53125 22.484375 10.953125 \nQ 26.375 6.390625 33.015625 6.390625 \nQ 39.65625 6.390625 43.53125 10.953125 \nQ 47.40625 15.53125 47.40625 23.390625 \nQ 47.40625 31.296875 43.53125 35.828125 \nQ 39.65625 40.375 33.015625 40.375 \nz\nM 52.59375 71.296875 \nL 52.59375 62.3125 \nQ 48.875 64.0625 45.09375 64.984375 \nQ 41.3125 65.921875 37.59375 65.921875 \nQ 27.828125 65.921875 22.671875 59.328125 \nQ 17.53125 52.734375 16.796875 39.40625 \nQ 19.671875 43.65625 24.015625 45.921875 \nQ 28.375 48.1875 33.59375 48.1875 \nQ 44.578125 48.1875 50.953125 41.515625 \nQ 57.328125 34.859375 57.328125 23.390625 \nQ 57.328125 12.15625 50.6875 5.359375 \nQ 44.046875 -1.421875 33.015625 -1.421875 \nQ 20.359375 -1.421875 13.671875 8.265625 \nQ 6.984375 17.96875 6.984375 36.375 \nQ 6.984375 53.65625 15.1875 63.9375 \nQ 23.390625 74.21875 37.203125 74.21875 \nQ 40.921875 74.21875 44.703125 73.484375 \nQ 48.484375 72.75 52.59375 71.296875 \nz\n\" id=\"DejaVuSans-36\"/>\n      </defs>\n      <g transform=\"translate(440.579624 677.618438)scale(0.1 -0.1)\">\n       <use xlink:href=\"#DejaVuSans-36\"/>\n       <use x=\"63.623047\" xlink:href=\"#DejaVuSans-30\"/>\n       <use x=\"127.246094\" xlink:href=\"#DejaVuSans-30\"/>\n      </g>\n     </g>\n    </g>\n    <g id=\"xtick_5\">\n     <g id=\"line2d_5\">\n      <g>\n       <use style=\"stroke:#000000;stroke-width:0.8;\" x=\"584.397395\" xlink:href=\"#mdbcb824f05\" y=\"663.02\"/>\n      </g>\n     </g>\n     <g id=\"text_5\">\n      <!-- 800 -->\n      <defs>\n       <path d=\"M 31.78125 34.625 \nQ 24.75 34.625 20.71875 30.859375 \nQ 16.703125 27.09375 16.703125 20.515625 \nQ 16.703125 13.921875 20.71875 10.15625 \nQ 24.75 6.390625 31.78125 6.390625 \nQ 38.8125 6.390625 42.859375 10.171875 \nQ 46.921875 13.96875 46.921875 20.515625 \nQ 46.921875 27.09375 42.890625 30.859375 \nQ 38.875 34.625 31.78125 34.625 \nz\nM 21.921875 38.8125 \nQ 15.578125 40.375 12.03125 44.71875 \nQ 8.5 49.078125 8.5 55.328125 \nQ 8.5 64.0625 14.71875 69.140625 \nQ 20.953125 74.21875 31.78125 74.21875 \nQ 42.671875 74.21875 48.875 69.140625 \nQ 55.078125 64.0625 55.078125 55.328125 \nQ 55.078125 49.078125 51.53125 44.71875 \nQ 48 40.375 41.703125 38.8125 \nQ 48.828125 37.15625 52.796875 32.3125 \nQ 56.78125 27.484375 56.78125 20.515625 \nQ 56.78125 9.90625 50.3125 4.234375 \nQ 43.84375 -1.421875 31.78125 -1.421875 \nQ 19.734375 -1.421875 13.25 4.234375 \nQ 6.78125 9.90625 6.78125 20.515625 \nQ 6.78125 27.484375 10.78125 32.3125 \nQ 14.796875 37.15625 21.921875 38.8125 \nz\nM 18.3125 54.390625 \nQ 18.3125 48.734375 21.84375 45.5625 \nQ 25.390625 42.390625 31.78125 42.390625 \nQ 38.140625 42.390625 41.71875 45.5625 \nQ 45.3125 48.734375 45.3125 54.390625 \nQ 45.3125 60.0625 41.71875 63.234375 \nQ 38.140625 66.40625 31.78125 66.40625 \nQ 25.390625 66.40625 21.84375 63.234375 \nQ 18.3125 60.0625 18.3125 54.390625 \nz\n\" id=\"DejaVuSans-38\"/>\n      </defs>\n      <g transform=\"translate(574.853645 677.618438)scale(0.1 -0.1)\">\n       <use xlink:href=\"#DejaVuSans-38\"/>\n       <use x=\"63.623047\" xlink:href=\"#DejaVuSans-30\"/>\n       <use x=\"127.246094\" xlink:href=\"#DejaVuSans-30\"/>\n      </g>\n     </g>\n    </g>\n    <g id=\"text_6\">\n     <!-- EAST -->\n     <defs>\n      <path d=\"M 9.8125 72.90625 \nL 55.90625 72.90625 \nL 55.90625 64.59375 \nL 19.671875 64.59375 \nL 19.671875 43.015625 \nL 54.390625 43.015625 \nL 54.390625 34.71875 \nL 19.671875 34.71875 \nL 19.671875 8.296875 \nL 56.78125 8.296875 \nL 56.78125 0 \nL 9.8125 0 \nz\n\" id=\"DejaVuSans-45\"/>\n      <path d=\"M 34.1875 63.1875 \nL 20.796875 26.90625 \nL 47.609375 26.90625 \nz\nM 28.609375 72.90625 \nL 39.796875 72.90625 \nL 67.578125 0 \nL 57.328125 0 \nL 50.6875 18.703125 \nL 17.828125 18.703125 \nL 11.1875 0 \nL 0.78125 0 \nz\n\" id=\"DejaVuSans-41\"/>\n      <path d=\"M 53.515625 70.515625 \nL 53.515625 60.890625 \nQ 47.90625 63.578125 42.921875 64.890625 \nQ 37.9375 66.21875 33.296875 66.21875 \nQ 25.25 66.21875 20.875 63.09375 \nQ 16.5 59.96875 16.5 54.203125 \nQ 16.5 49.359375 19.40625 46.890625 \nQ 22.3125 44.4375 30.421875 42.921875 \nL 36.375 41.703125 \nQ 47.40625 39.59375 52.65625 34.296875 \nQ 57.90625 29 57.90625 20.125 \nQ 57.90625 9.515625 50.796875 4.046875 \nQ 43.703125 -1.421875 29.984375 -1.421875 \nQ 24.8125 -1.421875 18.96875 -0.25 \nQ 13.140625 0.921875 6.890625 3.21875 \nL 6.890625 13.375 \nQ 12.890625 10.015625 18.65625 8.296875 \nQ 24.421875 6.59375 29.984375 6.59375 \nQ 38.421875 6.59375 43.015625 9.90625 \nQ 47.609375 13.234375 47.609375 19.390625 \nQ 47.609375 24.75 44.3125 27.78125 \nQ 41.015625 30.8125 33.5 32.328125 \nL 27.484375 33.5 \nQ 16.453125 35.6875 11.515625 40.375 \nQ 6.59375 45.0625 6.59375 53.421875 \nQ 6.59375 63.09375 13.40625 68.65625 \nQ 20.21875 74.21875 32.171875 74.21875 \nQ 37.3125 74.21875 42.625 73.28125 \nQ 47.953125 72.359375 53.515625 70.515625 \nz\n\" id=\"DejaVuSans-53\"/>\n      <path d=\"M -0.296875 72.90625 \nL 61.375 72.90625 \nL 61.375 64.59375 \nL 35.5 64.59375 \nL 35.5 0 \nL 25.59375 0 \nL 25.59375 64.59375 \nL -0.296875 64.59375 \nz\n\" id=\"DejaVuSans-54\"/>\n     </defs>\n     <g transform=\"translate(343.323747 691.296562)scale(0.1 -0.1)\">\n      <use xlink:href=\"#DejaVuSans-45\"/>\n      <use x=\"63.183594\" xlink:href=\"#DejaVuSans-41\"/>\n      <use x=\"131.591797\" xlink:href=\"#DejaVuSans-53\"/>\n      <use x=\"195.068359\" xlink:href=\"#DejaVuSans-54\"/>\n     </g>\n    </g>\n   </g>\n   <g id=\"matplotlib.axis_2\">\n    <g id=\"ytick_1\">\n     <g id=\"line2d_6\">\n      <defs>\n       <path d=\"M 0 0 \nL -3.5 0 \n\" id=\"m76351071d2\" style=\"stroke:#000000;stroke-width:0.8;\"/>\n      </defs>\n      <g>\n       <use style=\"stroke:#000000;stroke-width:0.8;\" x=\"46.965625\" xlink:href=\"#m76351071d2\" y=\"628.696183\"/>\n      </g>\n     </g>\n     <g id=\"text_7\">\n      <!-- 0 -->\n      <g transform=\"translate(33.603125 632.495402)scale(0.1 -0.1)\">\n       <use xlink:href=\"#DejaVuSans-30\"/>\n      </g>\n     </g>\n    </g>\n    <g id=\"ytick_2\">\n     <g id=\"line2d_7\">\n      <g>\n       <use style=\"stroke:#000000;stroke-width:0.8;\" x=\"46.965625\" xlink:href=\"#m76351071d2\" y=\"494.422162\"/>\n      </g>\n     </g>\n     <g id=\"text_8\">\n      <!-- 200 -->\n      <g transform=\"translate(20.878125 498.221381)scale(0.1 -0.1)\">\n       <use xlink:href=\"#DejaVuSans-32\"/>\n       <use x=\"63.623047\" xlink:href=\"#DejaVuSans-30\"/>\n       <use x=\"127.246094\" xlink:href=\"#DejaVuSans-30\"/>\n      </g>\n     </g>\n    </g>\n    <g id=\"ytick_3\">\n     <g id=\"line2d_8\">\n      <g>\n       <use style=\"stroke:#000000;stroke-width:0.8;\" x=\"46.965625\" xlink:href=\"#m76351071d2\" y=\"360.148141\"/>\n      </g>\n     </g>\n     <g id=\"text_9\">\n      <!-- 400 -->\n      <g transform=\"translate(20.878125 363.947359)scale(0.1 -0.1)\">\n       <use xlink:href=\"#DejaVuSans-34\"/>\n       <use x=\"63.623047\" xlink:href=\"#DejaVuSans-30\"/>\n       <use x=\"127.246094\" xlink:href=\"#DejaVuSans-30\"/>\n      </g>\n     </g>\n    </g>\n    <g id=\"ytick_4\">\n     <g id=\"line2d_9\">\n      <g>\n       <use style=\"stroke:#000000;stroke-width:0.8;\" x=\"46.965625\" xlink:href=\"#m76351071d2\" y=\"225.874119\"/>\n      </g>\n     </g>\n     <g id=\"text_10\">\n      <!-- 600 -->\n      <g transform=\"translate(20.878125 229.673338)scale(0.1 -0.1)\">\n       <use xlink:href=\"#DejaVuSans-36\"/>\n       <use x=\"63.623047\" xlink:href=\"#DejaVuSans-30\"/>\n       <use x=\"127.246094\" xlink:href=\"#DejaVuSans-30\"/>\n      </g>\n     </g>\n    </g>\n    <g id=\"ytick_5\">\n     <g id=\"line2d_10\">\n      <g>\n       <use style=\"stroke:#000000;stroke-width:0.8;\" x=\"46.965625\" xlink:href=\"#m76351071d2\" y=\"91.600098\"/>\n      </g>\n     </g>\n     <g id=\"text_11\">\n      <!-- 800 -->\n      <g transform=\"translate(20.878125 95.399317)scale(0.1 -0.1)\">\n       <use xlink:href=\"#DejaVuSans-38\"/>\n       <use x=\"63.623047\" xlink:href=\"#DejaVuSans-30\"/>\n       <use x=\"127.246094\" xlink:href=\"#DejaVuSans-30\"/>\n      </g>\n     </g>\n    </g>\n    <g id=\"text_12\">\n     <!-- NORTH -->\n     <defs>\n      <path d=\"M 9.8125 72.90625 \nL 23.09375 72.90625 \nL 55.421875 11.921875 \nL 55.421875 72.90625 \nL 64.984375 72.90625 \nL 64.984375 0 \nL 51.703125 0 \nL 19.390625 60.984375 \nL 19.390625 0 \nL 9.8125 0 \nz\n\" id=\"DejaVuSans-4e\"/>\n      <path d=\"M 39.40625 66.21875 \nQ 28.65625 66.21875 22.328125 58.203125 \nQ 16.015625 50.203125 16.015625 36.375 \nQ 16.015625 22.609375 22.328125 14.59375 \nQ 28.65625 6.59375 39.40625 6.59375 \nQ 50.140625 6.59375 56.421875 14.59375 \nQ 62.703125 22.609375 62.703125 36.375 \nQ 62.703125 50.203125 56.421875 58.203125 \nQ 50.140625 66.21875 39.40625 66.21875 \nz\nM 39.40625 74.21875 \nQ 54.734375 74.21875 63.90625 63.9375 \nQ 73.09375 53.65625 73.09375 36.375 \nQ 73.09375 19.140625 63.90625 8.859375 \nQ 54.734375 -1.421875 39.40625 -1.421875 \nQ 24.03125 -1.421875 14.8125 8.828125 \nQ 5.609375 19.09375 5.609375 36.375 \nQ 5.609375 53.65625 14.8125 63.9375 \nQ 24.03125 74.21875 39.40625 74.21875 \nz\n\" id=\"DejaVuSans-4f\"/>\n      <path d=\"M 44.390625 34.1875 \nQ 47.5625 33.109375 50.5625 29.59375 \nQ 53.5625 26.078125 56.59375 19.921875 \nL 66.609375 0 \nL 56 0 \nL 46.6875 18.703125 \nQ 43.0625 26.03125 39.671875 28.421875 \nQ 36.28125 30.8125 30.421875 30.8125 \nL 19.671875 30.8125 \nL 19.671875 0 \nL 9.8125 0 \nL 9.8125 72.90625 \nL 32.078125 72.90625 \nQ 44.578125 72.90625 50.734375 67.671875 \nQ 56.890625 62.453125 56.890625 51.90625 \nQ 56.890625 45.015625 53.6875 40.46875 \nQ 50.484375 35.9375 44.390625 34.1875 \nz\nM 19.671875 64.796875 \nL 19.671875 38.921875 \nL 32.078125 38.921875 \nQ 39.203125 38.921875 42.84375 42.21875 \nQ 46.484375 45.515625 46.484375 51.90625 \nQ 46.484375 58.296875 42.84375 61.546875 \nQ 39.203125 64.796875 32.078125 64.796875 \nz\n\" id=\"DejaVuSans-52\"/>\n      <path d=\"M 9.8125 72.90625 \nL 19.671875 72.90625 \nL 19.671875 43.015625 \nL 55.515625 43.015625 \nL 55.515625 72.90625 \nL 65.375 72.90625 \nL 65.375 0 \nL 55.515625 0 \nL 55.515625 34.71875 \nL 19.671875 34.71875 \nL 19.671875 0 \nL 9.8125 0 \nz\n\" id=\"DejaVuSans-48\"/>\n     </defs>\n     <g transform=\"translate(14.798438 354.819375)rotate(-90)scale(0.1 -0.1)\">\n      <use xlink:href=\"#DejaVuSans-4e\"/>\n      <use x=\"74.804688\" xlink:href=\"#DejaVuSans-4f\"/>\n      <use x=\"153.515625\" xlink:href=\"#DejaVuSans-52\"/>\n      <use x=\"222.888672\" xlink:href=\"#DejaVuSans-54\"/>\n      <use x=\"283.972656\" xlink:href=\"#DejaVuSans-48\"/>\n     </g>\n    </g>\n   </g>\n   <g id=\"patch_3\">\n    <path d=\"M 46.965625 663.02 \nL 46.965625 10.7 \n\" style=\"fill:none;stroke:#000000;stroke-linecap:square;stroke-linejoin:miter;stroke-width:0.8;\"/>\n   </g>\n   <g id=\"patch_4\">\n    <path d=\"M 665.297493 663.02 \nL 665.297493 10.7 \n\" style=\"fill:none;stroke:#000000;stroke-linecap:square;stroke-linejoin:miter;stroke-width:0.8;\"/>\n   </g>\n   <g id=\"patch_5\">\n    <path d=\"M 46.965625 663.02 \nL 665.297493 663.02 \n\" style=\"fill:none;stroke:#000000;stroke-linecap:square;stroke-linejoin:miter;stroke-width:0.8;\"/>\n   </g>\n   <g id=\"patch_6\">\n    <path d=\"M 46.965625 10.7 \nL 665.297493 10.7 \n\" style=\"fill:none;stroke:#000000;stroke-linecap:square;stroke-linejoin:miter;stroke-width:0.8;\"/>\n   </g>\n  </g>\n </g>\n <defs>\n  <clipPath id=\"p80f9b59227\">\n   <rect height=\"652.32\" width=\"618.331868\" x=\"46.965625\" y=\"10.7\"/>\n  </clipPath>\n </defs>\n</svg>\n",
      "image/png": "[encoded data removed]"
     },
     "metadata": {
      "needs_background": "light"
     }
    }
   ],
   "metadata": {}
  },
  {
   "cell_type": "markdown",
   "source": [
    "[Solution](/notebooks/Random-Sampling-Solution.ipynb)"
   ],
   "metadata": {}
  },
  {
   "cell_type": "markdown",
   "source": [
    "## Epilogue\n",
    "\n",
    "You may have noticed removing points can be quite lengthy. In the implementation provided here we're naively checking to see if the point collides with each polygon when in reality it can only collide with one, the one that's closest to the point. The question then becomes \n",
    "\n",
    "\"How do we efficiently find the closest polygon to the point?\"\n",
    "\n",
    "One such approach is to use a *[k-d tree](https://en.wikipedia.org/wiki/K-d_tree)*, a space-partitioning data structure which allows search queries in $O(log(n))$. The *k-d tree* achieves this by cutting the search space in half on each step of a query.\n",
    "\n",
    "This would bring the total algorithm time down to $O(m * log(n))$ from $O(m*n)$.\n",
    "\n",
    "The scikit-learn library has an efficient implementation [readily available](http://scikit-learn.org/stable/modules/generated/sklearn.neighbors.KDTree.html#sklearn.neighbors.KDTree)."
   ],
   "metadata": {}
  },
  {
   "cell_type": "code",
   "execution_count": 14,
   "source": [
    "from sklearn.neighbors import KDTree\n",
    "\n",
    "\n"
   ],
   "outputs": [],
   "metadata": {}
  },
  {
   "cell_type": "code",
   "execution_count": null,
   "source": [],
   "outputs": [],
   "metadata": {}
  }
 ],
 "metadata": {
  "kernelspec": {
   "name": "python3",
   "display_name": "Python 3.6.3 64-bit ('fcnd': conda)"
  },
  "language_info": {
   "codemirror_mode": {
    "name": "ipython",
    "version": 3
   },
   "file_extension": ".py",
   "mimetype": "text/x-python",
   "name": "python",
   "nbconvert_exporter": "python",
   "pygments_lexer": "ipython3",
   "version": "3.6.3"
  },
  "interpreter": {
   "hash": "65e358345eb72f741a184717ecf1f9809449c068ba7503c922ff8ef6dbcd7c86"
  }
 },
 "nbformat": 4,
 "nbformat_minor": 2
}